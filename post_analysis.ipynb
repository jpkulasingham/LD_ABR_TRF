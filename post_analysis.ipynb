{
 "cells": [
  {
   "cell_type": "markdown",
   "metadata": {},
   "source": [
    "# imports"
   ]
  },
  {
   "cell_type": "code",
   "execution_count": null,
   "metadata": {},
   "outputs": [],
   "source": [
    "%matplotlib inline\n",
    "import eelbrain as eel\n",
    "import numpy as np\n",
    "import scipy, pathlib, importlib, mne, time, os, sys, statsmodels, statsmodels.stats.multitest\n",
    "from tqdm import tqdm\n",
    "import matplotlib.pyplot as plt\n",
    "from matplotlib.lines import Line2D\n",
    "mne.set_log_level(verbose='error')\n",
    "import matplotlib\n",
    "import plotting\n",
    "from pathnames import *\n",
    "\n",
    "colors = [(0, 0.2, 0.7), (0, 0.5, 0.8), (0.4, 0.8, 1), (0.4, 0.9, 0.7)]"
   ]
  },
  {
   "cell_type": "markdown",
   "metadata": {},
   "source": [
    "# get rN"
   ]
  },
  {
   "cell_type": "code",
   "execution_count": null,
   "metadata": {},
   "outputs": [],
   "source": [
    "badsubjs = ['TP0015', 'TP0020', 'TP0022']\n",
    "rNs = []\n",
    "for i in range(24):\n",
    "    subject = f'TP{i+1:04d}'\n",
    "    if subject in badsubjs:\n",
    "        continue\n",
    "    rNs.append(np.mean(eel.load.unpickle(speech_path / f'test_A_predgtp_pndtrue0.3_nbins4_Ntrials-1\\\\TP{subject[2:]}_rNs.pkl')))\n",
    "print(np.mean(rNs), np.std(rNs), np.max(rNs), np.min(rNs))"
   ]
  },
  {
   "cell_type": "markdown",
   "metadata": {},
   "source": [
    "# Visual abstract"
   ]
  },
  {
   "cell_type": "code",
   "execution_count": null,
   "metadata": {},
   "outputs": [],
   "source": [
    "importlib.reload(plotting)\n",
    "\n",
    "twin=0.001\n",
    "pkwin = (0.004, 0.01)\n",
    "badsubjs = ['TP0015', 'TP0020', 'TP0022']\n",
    "predks = ['clicks','rect', 'gt', 'oss', 'ossa', 'zil']\n",
    "shifts = [0, 0, 0.001, -0.004, -0.005, 0.001]\n",
    "shifts = [s-0.0009 for s in shifts]\n",
    "resA = dict(trfs={}, pklats={}, pkamps={}, pk2pkamps={}, pklatnegs={}, pkampnegs={})\n",
    "for k, shift in zip(predks, shifts):\n",
    "    print(k, shift)\n",
    "    if k=='clicks':\n",
    "        clicks, click_pklats, click_pkamps, click_pk2pkamps, click_pklatnegs, click_pkampnegs, subjects1 = plotting.get_clicks(twin=twin, badsubjs=badsubjs, pkwin=pkwin, shift=shift)\n",
    "        resA['trfs'][k] = clicks\n",
    "        resA['pklats'][k] = np.asarray(click_pklats)\n",
    "        resA['pkamps'][k] = np.asarray(click_pkamps)\n",
    "        resA['pk2pkamps'][k] = np.asarray(click_pk2pkamps)\n",
    "        resA['pklatnegs'][k] = np.asarray(click_pklatnegs)\n",
    "    else:\n",
    "        respath = pathlib.Path(speech_path / f'test_A_pred{k}p_pndtrue0.3_nbins4_Ntrials-1')\n",
    "        res = plotting.get_trfs(respath, k+'p', badsubjs, shift, twin=twin, pkwin=pkwin)\n",
    "        snrs1, spows1, npows1 = plotting.get_waveVsnr(res)\n",
    "        resA['trfs'][k] = res['trfs'].copy()\n",
    "        resA['pklats'][k] = np.asarray(res['pklats']).copy()\n",
    "        resA['pkamps'][k] = np.asarray(res['pkamps']).copy()\n",
    "        resA['pk2pkamps'][k] = np.asarray(res['pk2pkamps']).copy()\n",
    "        resA['pklatnegs'][k] = np.asarray(res['pklatnegs']).copy()"
   ]
  },
  {
   "cell_type": "code",
   "execution_count": null,
   "metadata": {},
   "outputs": [],
   "source": [
    "gn = {}\n",
    "for k in predks:\n",
    "    if k=='clicks':\n",
    "        continue\n",
    "    gn[k] = np.mean([x.sub(time=(0,0.02)).std().mean() for x in resA['trfs']['clicks']])/ np.mean([x.sub(time=(0,0.02)).std().mean() for x in resA['trfs'][k]])\n",
    "    resA['trfs'][k] = [x*gn[k] for x in resA['trfs'][k]]\n",
    "    resA['pkamps'][k] = [p*gn[k] for p in resA['pkamps'][k]]\n",
    "    resA['pk2pkamps'][k] = [p*gn[k] for p in resA['pk2pkamps'][k]]"
   ]
  },
  {
   "cell_type": "code",
   "execution_count": null,
   "metadata": {},
   "outputs": [],
   "source": [
    "gtx = np.mean(np.asarray([resA['trfs']['gt'][i].sub(time=(0, 0.015)).x for i in range(21)]), axis=0)\n",
    "# gtx = resA['trfs']['gt'][7].sub(time=(0, 0.015)).x\n",
    "gtx = gtx[::-1,:]\n",
    "tdim = resA['trfs']['gt'][0].sub(time=(0, 0.015)).time.times*1000\n",
    "colors = [(0, 0.2, 0.7), (0, 0.5, 0.8), (0.4, 0.8, 1), (0.4, 0.9, 0.7)]\n",
    "fig = plt.figure(figsize=(20,10))\n",
    "ax1 = fig.add_subplot(121)\n",
    "ax2 = fig.add_subplot(122)\n",
    "plt.subplot(1,2,2)\n",
    "for i in range(4):\n",
    "    plt.plot(tdim, gtx[i]+5e-7*i**1.4, color=colors[::-1][i], lw=5, zorder=1)\n",
    "for spine in plt.gca().spines:\n",
    "    plt.gca().spines[spine].set_visible(False)\n",
    "plt.xticks([])\n",
    "plt.yticks([])\n",
    "plt.title('Estimated subcortical\\nEEG response', fontsize=40)\n",
    "\n",
    "wav = eel.load.wav(wav_path / 'Male1_001_Simon_part002.wav').sub(channel=1)\n",
    "speechx = wav.sub(time=(8.45, 8.9)).x.astype(float)\n",
    "speechx /= np.max(speechx)\n",
    "speechtdim = wav.sub(time=(8.45, 8.9)).time.times\n",
    "\n",
    "colors = [(0, 0.2, 0.7), (0, 0.5, 0.8), (0.4, 0.8, 1), (0.4, 0.9, 0.7)]\n",
    "plt.subplot(1,2,1)\n",
    "for i in range(4):\n",
    "    plt.plot(speechtdim, ((i+1)**1.5)*10*speechx+i**1.4*50, color=colors[::-1][i])\n",
    "for spine in plt.gca().spines:\n",
    "    plt.gca().spines[spine].set_visible(False)\n",
    "plt.xticks([])\n",
    "plt.yticks([])\n",
    "ax1.set_ylabel('Intensity level', fontsize=40, labelpad=30)\n",
    "plt.title('Continuous speech stimuli', fontsize=40)\n",
    "\n",
    "from matplotlib import patches\n",
    "xyA = [8.95, 150]\n",
    "xyB = [-2, 1.31e-6]\n",
    "arrow = patches.ConnectionPatch(\n",
    "    xyA,\n",
    "    xyB,\n",
    "    coordsA=ax1.transData,\n",
    "    coordsB=ax2.transData,\n",
    "    color=\"black\",\n",
    "    arrowstyle=\"-|>\",  # \"normal\" arrow\n",
    "    mutation_scale=30,  # controls arrow head size\n",
    "    linewidth=3,\n",
    ")\n",
    "fig.patches.append(arrow)\n",
    "\n",
    "xyA = [5.8, 2.95e-6]\n",
    "xyB = [8, -0.2e-6]\n",
    "arrow = patches.ConnectionPatch(\n",
    "    xyA,\n",
    "    xyB,\n",
    "    coordsA=ax2.transData,\n",
    "    coordsB=ax2.transData,\n",
    "    color=\"red\",\n",
    "    arrowstyle=\"-|>\",  # \"normal\" arrow\n",
    "    mutation_scale=30,  # controls arrow head size\n",
    "    linewidth=3,\n",
    "    linestyle=(5, (5, 5))\n",
    ")\n",
    "fig.patches.append(arrow)\n",
    "\n",
    "\n",
    "xyA = [8.41, 20]\n",
    "xyB = [8.41, 280]\n",
    "arrow = patches.ConnectionPatch(\n",
    "    xyA,\n",
    "    xyB,\n",
    "    coordsA=ax1.transData,\n",
    "    coordsB=ax1.transData,\n",
    "    color=\"k\",\n",
    "    arrowstyle=\"-|>\",  # \"normal\" arrow\n",
    "    mutation_scale=30,  # controls arrow head size\n",
    "    linewidth=3,\n",
    ")\n",
    "fig.patches.append(arrow)\n",
    "\n",
    "\n",
    "rect = patches.Rectangle((8.5, -15), 0.1, -2, linewidth=1, edgecolor='none', facecolor='k')\n",
    "ax1.add_patch(rect)\n",
    "plt.figtext(0.175, 0.09, '100 ms', fontsize=20, color='k')\n",
    "\n",
    "rect = patches.Rectangle((0, -0.2e-6), 5, -0.015e-6, linewidth=1, edgecolor='none', facecolor='k')\n",
    "ax2.add_patch(rect)\n",
    "plt.figtext(0.63, 0.11, '5 ms', fontsize=20, color='k')\n",
    "\n",
    "\n",
    "plt.figtext(0.74, 0.08, 'Level dependency', fontsize=35, color='red')\n",
    "plt.subplots_adjust(wspace=0.5)\n",
    "\n",
    "post_analysis_path.mkdir(exist_ok=True)\n",
    "\n",
    "plt.savefig(post_analysis_path / 'Visual_abstract.tiff', dpi=300, bbox_inches='tight')"
   ]
  },
  {
   "cell_type": "markdown",
   "metadata": {},
   "source": [
    "# Fig 1"
   ]
  },
  {
   "cell_type": "code",
   "execution_count": null,
   "metadata": {},
   "outputs": [],
   "source": [
    "importlib.reload(plotting)\n",
    "\n",
    "twin=0.004\n",
    "pkwin = (0.004, 0.01)\n",
    "badsubjs = ['TP0015', 'TP0020', 'TP0022']\n",
    "predks = ['clicks','rect', 'gt', 'oss', 'ossa', 'zil']\n",
    "shifts = [0, 0, 0.001, -0.004, -0.005, 0.001]\n",
    "shifts = [s-0.0009 for s in shifts]\n",
    "resA = dict(trfs={}, pklats={}, pkamps={})\n",
    "for k, shift in zip(predks, shifts):\n",
    "    print(k, shift)\n",
    "    if k=='clicks':\n",
    "        clicks, click_pklats, click_pkamps, click_pk2pkamps, click_pklatnegs, click_pkampnegs, subjects1 = plotting.get_clicks(twin=twin, badsubjs=badsubjs, pkwin=pkwin, shift=shift)\n",
    "        resA['trfs'][k] = clicks\n",
    "        resA['pklats'][k] = np.asarray(click_pklats)\n",
    "        resA['pkamps'][k] = np.asarray(click_pkamps)\n",
    "    else:\n",
    "        respath = pathlib.Path(speech_path / f'test_A_pred{k}p_pndtrue0.3_nbins4_Ntrials-1')\n",
    "        res = plotting.get_trfs(respath, k+'p', badsubjs, shift, twin=twin, pkwin=pkwin)\n",
    "        snrs1, spows1, npows1 = plotting.get_waveVsnr(res)\n",
    "        resA['trfs'][k] = res['trfs'].copy()\n",
    "        resA['pklats'][k] = np.asarray(res['pklats']).copy()\n",
    "        resA['pkamps'][k] = np.asarray(res['pkamps']).copy()"
   ]
  },
  {
   "cell_type": "code",
   "execution_count": null,
   "metadata": {},
   "outputs": [],
   "source": [
    "gn = {}\n",
    "for k in predks:\n",
    "    if k=='clicks':\n",
    "        continue\n",
    "    gn[k] = np.mean([x.sub(time=(0,0.02)).std().mean() for x in resA['trfs']['clicks']])/ np.mean([x.sub(time=(0,0.02)).std().mean() for x in resA['trfs'][k]])\n",
    "    resA['trfs'][k] = [x*gn[k] for x in resA['trfs'][k]]\n",
    "    resA['pkamps'][k] = [p*gn[k] for p in resA['pkamps'][k]]"
   ]
  },
  {
   "cell_type": "code",
   "execution_count": null,
   "metadata": {},
   "outputs": [],
   "source": [
    "importlib.reload(plotting)\n",
    "tstrs = ['Click ERP', 'Speech RS TRF', 'Speech GT TRF', 'Speech OSS TRF', 'Speech OSSA TRF', 'Speech ZIL TRF']\n",
    "ylim = [-5e-7, 9e-7]\n",
    "post_analysis_path.mkdir(exist_ok=True, parents=True)\n",
    "plotting.plot_fig1(resA, predks, tstrs, ylim=ylim, savefolder=post_analysis_path)"
   ]
  },
  {
   "cell_type": "markdown",
   "metadata": {},
   "source": [
    "# Fig 2"
   ]
  },
  {
   "cell_type": "code",
   "execution_count": null,
   "metadata": {},
   "outputs": [],
   "source": [
    "importlib.reload(plotting)\n",
    "tstrs = ['Click ERP', 'Speech RS TRF', 'Speech GT TRF', 'Speech OSS TRF', 'Speech OSSA TRF', 'Speech ZIL TRF']\n",
    "plotting.plot_fig2(resA, predks, tstrs, savefolder=post_analysis_path, pkstr='pkamps', ylim=0.0015)"
   ]
  },
  {
   "cell_type": "markdown",
   "metadata": {},
   "source": [
    "# Fig 3"
   ]
  },
  {
   "cell_type": "code",
   "execution_count": null,
   "metadata": {},
   "outputs": [],
   "source": [
    "importlib.reload(plotting)\n",
    "fig3res = plotting.plot_fig3(resA, savefolder=post_analysis_path, k='gt', ampstr='pkamps', savestr='GT')"
   ]
  },
  {
   "cell_type": "markdown",
   "metadata": {},
   "source": [
    "# Fig 4"
   ]
  },
  {
   "cell_type": "code",
   "execution_count": null,
   "metadata": {},
   "outputs": [],
   "source": [
    "twin=0.004\n",
    "pkwin = (0.004, 0.01)\n",
    "badsubjs = ['TP0015', 'TP0020', 'TP0022']\n",
    "predks = ['gt']\n",
    "shifts = [0.001]\n",
    "shifts = [s-0.0009 for s in shifts]\n",
    "for k, shift in zip(predks, shifts):\n",
    "    respath = speech_path / 'test_switch1_predgtp_pndtrue0.3_nbins4_Ntrials-1'\n",
    "    res = plotting.get_trfs(respath, k+'p', badsubjs, shift, twin=twin, pkwin=pkwin)\n",
    "    resA['trfs'][k+'switch1'] = res['trfs'].copy()\n",
    "    resA['pklats'][k+'switch1'] = np.asarray(res['pklats']).copy()\n",
    "    resA['pkamps'][k+'switch1'] = np.asarray(res['pkamps']).copy()\n",
    "\n",
    "    respath = speech_path / 'test_fixed1_predgtp_pndtrue0.3_nbins4_Ntrials-1'\n",
    "    res = plotting.get_trfs(respath, k+'p', badsubjs, shift, twin=twin, pkwin=pkwin)\n",
    "    resA['trfs'][k+'fixed1'] = res['trfs'].copy()\n",
    "    resA['pklats'][k+'fixed1'] = np.asarray(res['pklats']).copy()\n",
    "    resA['pkamps'][k+'fixed1'] = np.asarray(res['pkamps']).copy()\n"
   ]
  },
  {
   "cell_type": "code",
   "execution_count": null,
   "metadata": {},
   "outputs": [],
   "source": [
    "for k in ['gtswitch1', 'gtfixed1']:\n",
    "    if k=='clicks':\n",
    "        continue\n",
    "    gn[k] = np.mean([x.sub(time=(0,0.02)).std().mean() for x in resA['trfs']['clicks']])/ np.mean([x.sub(time=(0,0.02)).std().mean() for x in resA['trfs'][k]])\n",
    "    resA['trfs'][k] = [x*gn[k] for x in resA['trfs'][k]]\n",
    "    resA['pkamps'][k] = [p*gn[k] for p in resA['pkamps'][k]]\n",
    "print(gn)"
   ]
  },
  {
   "cell_type": "code",
   "execution_count": null,
   "metadata": {},
   "outputs": [],
   "source": [
    "importlib.reload(plotting)\n",
    "tstrs = ['Long duration (1 min)', 'Short duration (5 s)']\n",
    "ylim = [-5e-7, 9e-7]\n",
    "predks = ['gtfixed1', 'gtswitch1']\n",
    "plotting.plot_fig4(resA, predks, tstrs, ylim=ylim, savefolder=post_analysis_path, ampstr='pkamps', ampylim=0.0015)"
   ]
  },
  {
   "cell_type": "markdown",
   "metadata": {},
   "source": [
    "# Fig 5"
   ]
  },
  {
   "cell_type": "code",
   "execution_count": null,
   "metadata": {},
   "outputs": [],
   "source": [
    "importlib.reload(plotting)\n",
    "badsubjs = ['TP0015', 'TP0020', 'TP0022']\n",
    "predk = 'gtp'\n",
    "twin = 0.004\n",
    "snrsA = []\n",
    "spowsA = []\n",
    "npowsA = []\n",
    "trfsA = []\n",
    "pklatsA = []\n",
    "pkampsA = []\n",
    "for Ntrials in range(4,41,4):\n",
    "    speechfolder1 = speech_path / f'test_switch_pred{predk}_pndtrue0.3_nbins4_Ntrials{Ntrials}'\n",
    "    pkwin = (0.004, 0.01)\n",
    "    res = plotting.get_trfs(speechfolder1, predk, badsubjs, 0.001-0.0009, twin=twin, pkwin=pkwin)\n",
    "    snrs, spows, npows = plotting.get_waveVsnr(res)\n",
    "    snrsA.append(snrs)\n",
    "    spowsA.append(spows)\n",
    "    npowsA.append(npows)\n",
    "    trfsA.append(res['trfs'])\n",
    "    trfs, pkamps, pklats, pk2pkamps = res['trfs'], res['pkamps'], res['pklats'], res['pk2pkamps']\n",
    "    pklatsA.append(pklats)\n",
    "    pkampsA.append(pkamps)\n",
    "snrsA = np.asarray(snrsA)\n",
    "npowsA = np.asarray(npowsA)\n",
    "spowsA = np.asarray(spowsA)"
   ]
  },
  {
   "cell_type": "code",
   "execution_count": null,
   "metadata": {},
   "outputs": [],
   "source": [
    "importlib.reload(plotting)\n",
    "plotting.plot_fig5(pkampsA, pklatsA, snrsA, savefolder=post_analysis_path, savestr='pkamps')"
   ]
  },
  {
   "cell_type": "markdown",
   "metadata": {},
   "source": [
    "# Fig 6"
   ]
  },
  {
   "cell_type": "code",
   "execution_count": null,
   "metadata": {},
   "outputs": [],
   "source": [
    "importlib.reload(plotting)\n",
    "badsubjs = ['TP0015', 'TP0020', 'TP0022']\n",
    "k = 'gt'\n",
    "pkwin = (0.004, 0.01)\n",
    "shift =  0.001-0.0009\n",
    "trfkey = 'ldtrfs'\n",
    "binskey = 'bins'\n",
    "respath = speech_path / f'test_A_pred{k}p_pndpred0.3_nbins8_Ntrials-1'\n",
    "res = plotting.get_trfs(respath, k+'p', badsubjs, shift, twin=0.004, pkwin_adjust=np.zeros(8), trfkey=trfkey, binskey=binskey)\n",
    "resA['trfs'][k+'8lev'] = res['trfs'].copy()\n",
    "resA['pklats'][k+'8lev'] = np.asarray(res['pklats']).copy()\n",
    "resA['pkamps'][k+'8lev'] = np.asarray(res['pkamps']).copy()\n",
    "resA['pk2pkamps'][k+'8lev'] = np.asarray(res['pk2pkamps']).copy()"
   ]
  },
  {
   "cell_type": "code",
   "execution_count": null,
   "metadata": {},
   "outputs": [],
   "source": [
    "bindB = [a for a in np.mean(np.asarray(res['bins']), axis=0)]\n",
    "bindB = [20*np.log10(b) for b in bindB]\n",
    "bindB = [int(b-bindB[-1]+72) for b in bindB]\n",
    "bindB"
   ]
  },
  {
   "cell_type": "code",
   "execution_count": null,
   "metadata": {},
   "outputs": [],
   "source": [
    "for k in ['gt8lev']:\n",
    "    if k=='clicks':\n",
    "        continue\n",
    "    gn[k] = np.mean([x.sub(time=(0,0.02)).std().mean() for x in resA['trfs']['clicks']])/ np.mean([x.sub(time=(0,0.02)).std().mean() for x in resA['trfs'][k]])\n",
    "    resA['trfs'][k] = [x*gn[k] for x in resA['trfs'][k]]\n",
    "    resA['pkamps'][k] = [p*gn[k] for p in resA['pkamps'][k]]\n",
    "    resA['pk2pkamps'][k] = [p*gn[k] for p in resA['pk2pkamps'][k]]\n",
    "print(gn)"
   ]
  },
  {
   "cell_type": "code",
   "execution_count": null,
   "metadata": {},
   "outputs": [],
   "source": [
    "importlib.reload(plotting)\n",
    "post_analysis_path.mkdir(exist_ok=True)\n",
    "plotting.plot_fig6(resA, bindB, k='gt8lev', tstr='Speech GT TRF', savefolder=post_analysis_path, levels=8, ampstr='pkamps', ampylim=0.0015)"
   ]
  },
  {
   "cell_type": "markdown",
   "metadata": {},
   "source": [
    "# supplementary\n",
    "\n",
    "## A"
   ]
  },
  {
   "cell_type": "code",
   "execution_count": null,
   "metadata": {},
   "outputs": [],
   "source": [
    "importlib.reload(plotting)\n",
    "tstrs = ['Click ERP', 'Speech RS TRF', 'Speech GT TRF', 'Speech OSS TRF', 'Speech OSSA TRF', 'Speech ZIL TRF']\n",
    "\n",
    "twin=0.004\n",
    "pkwin = (0.004, 0.01)\n",
    "badsubjs = ['TP0015', 'TP0022']\n",
    "predks = ['clicks','rect', 'gt', 'oss', 'ossa', 'zil']\n",
    "shifts = [0, 0, 0.001, -0.004, -0.005, 0.001]\n",
    "shifts = [s-0.0009 for s in shifts]\n",
    "resA = dict(trfs={}, pklats={}, pkamps={}, pk2pkamps={}, pklatnegs={}, pkampnegs={})\n",
    "for k, shift in zip(predks, shifts):\n",
    "    print(k, shift)\n",
    "    if k=='clicks':\n",
    "        clicks, click_pklats, click_pkamps, click_pk2pkamps, click_pklatnegs, click_pkampnegs, subjects1 = plotting.get_clicks(twin=twin, badsubjs=badsubjs, pkwin=pkwin, shift=shift)\n",
    "        resA['trfs'][k] = clicks\n",
    "        resA['pklats'][k] = np.asarray(click_pklats)\n",
    "        resA['pkamps'][k] = np.asarray(click_pkamps)\n",
    "        resA['pk2pkamps'][k] = np.asarray(click_pk2pkamps)\n",
    "        resA['pklatnegs'][k] = np.asarray(click_pklatnegs)\n",
    "        resA['pkampnegs'][k] = np.asarray(click_pkampnegs)\n",
    "\n",
    "    else:\n",
    "        respath = speech_path / f'test_A_pred{k}p_pndtrue0.3_nbins4_Ntrials-1'\n",
    "        res = plotting.get_trfs(respath, k+'p', badsubjs, shift, twin=twin, pkwin=pkwin)\n",
    "        resA['trfs'][k] = res['trfs'].copy()\n",
    "        resA['pklats'][k] = np.asarray(res['pklats']).copy()\n",
    "        resA['pkamps'][k] = np.asarray(res['pkamps']).copy()\n",
    "        resA['pklatnegs'][k] = np.asarray(res['pklatnegs']).copy()\n",
    "        resA['pk2pkamps'][k] = np.asarray(res['pk2pkamps']).copy()\n",
    "        resA['pkampnegs'][k] = np.asarray(res['pkampnegs']).copy()\n",
    "gn = {}\n",
    "for k in predks:\n",
    "    if k=='clicks':\n",
    "        continue\n",
    "    gn[k] = np.mean([x.sub(time=(0,0.02)).std().mean() for x in resA['trfs']['clicks']])/ np.mean([x.sub(time=(0,0.02)).std().mean() for x in resA['trfs'][k]])\n",
    "    resA['trfs'][k] = [x*gn[k] for x in resA['trfs'][k]]\n",
    "    resA['pkamps'][k] = [p*gn[k] for p in resA['pkamps'][k]]\n",
    "    resA['pk2pkamps'][k] = [p*gn[k] for p in resA['pk2pkamps'][k]]\n",
    "    resA['pkampnegs'][k] = [p*gn[k] for p in resA['pkampnegs'][k]]\n",
    "\n",
    "print(gn)\n",
    "\n",
    "importlib.reload(plotting)\n",
    "ylim = [-0.8e-6, 1.55e-6]\n",
    "plotting.plot_indiv_trfs(resA, predks, tstrs, ylim=ylim, savefolder=post_analysis_path, badsubj_idx=18)"
   ]
  },
  {
   "cell_type": "markdown",
   "metadata": {},
   "source": [
    "## switch, fixed"
   ]
  },
  {
   "cell_type": "code",
   "execution_count": null,
   "metadata": {},
   "outputs": [],
   "source": [
    "twin=0.004\n",
    "pkwin = (0.004, 0.011)\n",
    "badsubjs = ['TP0015', 'TP0022']\n",
    "predks = ['gt']\n",
    "shifts = [0.001]\n",
    "shifts = [s-0.0009 for s in shifts]\n",
    "\n",
    "for k, shift in zip(predks, shifts):\n",
    "    respath = speech_path / f'test_switch1_predgtp_pndtrue0.3_nbins4_Ntrials-1'\n",
    "    res = plotting.get_trfs(respath, k+'p', badsubjs, shift, twin=twin, pkwin=pkwin)\n",
    "    resA['trfs'][k+'switch1'] = res['trfs'].copy()\n",
    "    resA['pklats'][k+'switch1'] = np.asarray(res['pklats']).copy()\n",
    "    resA['pkamps'][k+'switch1'] = np.asarray(res['pkamps']).copy()\n",
    "\n",
    "    respath = speech_path / f'test_fixed1_predgtp_pndtrue0.3_nbins4_Ntrials-1'\n",
    "    res = plotting.get_trfs(respath, k+'p', badsubjs, shift, twin=twin, pkwin=pkwin)\n",
    "    resA['trfs'][k+'fixed1'] = res['trfs'].copy()\n",
    "    resA['pklats'][k+'fixed1'] = np.asarray(res['pklats']).copy()\n",
    "    resA['pkamps'][k+'fixed1'] = np.asarray(res['pkamps']).copy()\n",
    "\n",
    "\n",
    "for k in ['gtswitch1', 'gtfixed1']:\n",
    "    if k=='clicks':\n",
    "        continue\n",
    "    gn[k] = np.mean([x.sub(time=(0,0.02)).std().mean() for x in resA['trfs']['clicks']])/ np.mean([x.sub(time=(0,0.02)).std().mean() for x in resA['trfs'][k]])\n",
    "    resA['trfs'][k] = [x*gn[k] for x in resA['trfs'][k]]\n",
    "    resA['pkamps'][k] = [p*gn[k] for p in resA['pkamps'][k]]\n",
    "print(gn)\n",
    "\n",
    "importlib.reload(plotting)\n",
    "ylim = [-0.8e-6, 1.2e-6]\n",
    "predks = ['gtfixed1', 'gtswitch1']\n",
    "plotting.plot_indiv_trfs(resA, predks, tstrs, ylim=ylim, savefolder=post_analysis_path, badsubj_idx=18)"
   ]
  },
  {
   "cell_type": "markdown",
   "metadata": {},
   "source": [
    "## inherent"
   ]
  },
  {
   "cell_type": "code",
   "execution_count": null,
   "metadata": {},
   "outputs": [],
   "source": [
    "importlib.reload(plotting)\n",
    "badsubjs = ['TP0015', 'TP0022']\n",
    "\n",
    "k = 'gt'\n",
    "pkwin = (0.004, 0.011)\n",
    "shift =  0.001-0.0009\n",
    "respath = speech_path / 'test_A_predgtp_pndpred0.3_nbins8_Ntrials-1'\n",
    "res = plotting.get_trfs(respath, k+'p', badsubjs, shift, twin=0.004, pkwin_adjust=np.zeros(8))\n",
    "resA['trfs'][k+'8lev'] = res['trfs'].copy()\n",
    "resA['pklats'][k+'8lev'] = np.asarray(res['pklats']).copy()\n",
    "resA['pkamps'][k+'8lev'] = np.asarray(res['pkamps']).copy()\n",
    "\n",
    "for k in ['gt8lev']:\n",
    "    if k=='clicks':\n",
    "        continue\n",
    "    gn[k] = np.mean([x.sub(time=(0,0.02)).std().mean() for x in resA['trfs']['clicks']])/ np.mean([x.sub(time=(0,0.02)).std().mean() for x in resA['trfs'][k]])\n",
    "    resA['trfs'][k] = [x*gn[k] for x in resA['trfs'][k]]\n",
    "    resA['pkamps'][k] = [p*gn[k] for p in resA['pkamps'][k]]\n",
    "print(gn)\n",
    "\n",
    "ylim = [-0.8e-6, 1.2e-6]\n",
    "predks = ['gt8lev']\n",
    "cmap = matplotlib.cm.get_cmap('winter')\n",
    "colors8lev = [list(cmap(i/8))[:3]+[0.75] for i in range(8)]\n",
    "legendstr = [f'{int(b)} dBA' for b in bindB[::-1]]\n",
    "tstrs = None\n",
    "plotting.plot_indiv_trfs(resA, predks, tstrs, ylim=ylim, levels=8, colors1=colors8lev, savefolder=post_analysis_path, legendstr=legendstr, badsubj_idx=18)"
   ]
  },
  {
   "cell_type": "code",
   "execution_count": null,
   "metadata": {},
   "outputs": [],
   "source": []
  },
  {
   "cell_type": "code",
   "execution_count": null,
   "metadata": {},
   "outputs": [],
   "source": []
  },
  {
   "cell_type": "code",
   "execution_count": null,
   "metadata": {},
   "outputs": [],
   "source": []
  }
 ],
 "metadata": {
  "kernelspec": {
   "display_name": "eelcurrent",
   "language": "python",
   "name": "python3"
  },
  "language_info": {
   "codemirror_mode": {
    "name": "ipython",
    "version": 3
   },
   "file_extension": ".py",
   "mimetype": "text/x-python",
   "name": "python",
   "nbconvert_exporter": "python",
   "pygments_lexer": "ipython3",
   "version": "3.11.6"
  }
 },
 "nbformat": 4,
 "nbformat_minor": 2
}
