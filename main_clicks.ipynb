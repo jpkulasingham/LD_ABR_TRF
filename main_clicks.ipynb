{
 "cells": [
  {
   "cell_type": "markdown",
   "metadata": {},
   "source": [
    "# imports"
   ]
  },
  {
   "cell_type": "code",
   "execution_count": null,
   "metadata": {},
   "outputs": [],
   "source": [
    "%matplotlib inline\n",
    "import eelbrain as eel\n",
    "import numpy as np\n",
    "import scipy, pathlib, importlib, mne, time, os, sys\n",
    "from tqdm import tqdm\n",
    "import matplotlib.pyplot as plt\n",
    "import clicks, utils\n",
    "from pathnames import *\n",
    "mne.set_log_level(verbose='error')\n",
    "dBstrs=['66dB', '54dB', '42dB', '30dB']"
   ]
  },
  {
   "cell_type": "markdown",
   "metadata": {},
   "source": [
    "# Run clicks"
   ]
  },
  {
   "cell_type": "code",
   "execution_count": null,
   "metadata": {},
   "outputs": [],
   "source": [
    "importlib.reload(clicks)\n",
    "\n",
    "click_path.mkdir(parents=True, exist_ok=True)\n",
    "\n",
    "subjects = [f'TP{i:04d}' for i in range(1, 25)]\n",
    "\n",
    "for subject in tqdm(subjects):\n",
    "    subj_path = rawdata_path / subject\n",
    "    eegfilename = f'{subject}_clicks.bdf'\n",
    "    if subject == 'TP0007': \n",
    "        blockidxs=[0, 2, 3, 4, 5]\n",
    "        N = 5279\n",
    "    else: \n",
    "        blockidxs = [0, 1, 2, 3, 4]\n",
    "        N = -1\n",
    "    if subject == 'TP0004':\n",
    "        refc = ['EXG2', 'EXG2']\n",
    "    else:\n",
    "        refc = ['EXG1', 'EXG2']\n",
    "    res_dict, eegtrials, eegs1, ergs1, triggersA, Ts = clicks.run_clicks_on_eegfile(eegfilename, subj_path, click_path, fsds=4096, hp=30, lp=1000, savestr=f'{subject}_ERP', force_make=True, N=N, blockidxs=blockidxs, refc=refc, notchflag=True, plotflag=True)"
   ]
  },
  {
   "cell_type": "code",
   "execution_count": null,
   "metadata": {},
   "outputs": [],
   "source": []
  }
 ],
 "metadata": {
  "kernelspec": {
   "display_name": "eelcurrent",
   "language": "python",
   "name": "python3"
  },
  "language_info": {
   "codemirror_mode": {
    "name": "ipython",
    "version": 3
   },
   "file_extension": ".py",
   "mimetype": "text/x-python",
   "name": "python",
   "nbconvert_exporter": "python",
   "pygments_lexer": "ipython3",
   "version": "3.10.6"
  }
 },
 "nbformat": 4,
 "nbformat_minor": 2
}
