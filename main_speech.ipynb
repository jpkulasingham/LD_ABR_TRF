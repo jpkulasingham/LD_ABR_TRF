{
 "cells": [
  {
   "cell_type": "markdown",
   "metadata": {},
   "source": [
    "# imports"
   ]
  },
  {
   "cell_type": "code",
   "execution_count": null,
   "metadata": {},
   "outputs": [],
   "source": [
    "%matplotlib inline\n",
    "import eelbrain as eel\n",
    "import numpy as np\n",
    "import scipy, pathlib, importlib, mne, time, os, sys, statsmodels, statsmodels.stats.multitest, matplotlib\n",
    "from tqdm import tqdm\n",
    "import matplotlib.pyplot as plt\n",
    "from matplotlib.lines import Line2D\n",
    "mne.set_log_level(verbose='error')\n",
    "import utils, TRFs\n",
    "from pathnames import *\n",
    "\n",
    "colors = [(0, 0.2, 0.7), (0, 0.5, 0.8), (0.4, 0.8, 1), (0.4, 0.9, 0.7)]\n",
    "\n",
    "preds = {}\n",
    "preds_a = {}\n",
    "dBstrs=['66dB', '54dB', '42dB', '30dB']"
   ]
  },
  {
   "cell_type": "markdown",
   "metadata": {},
   "source": [
    "# preprocess EEG data"
   ]
  },
  {
   "cell_type": "code",
   "execution_count": null,
   "metadata": {},
   "outputs": [],
   "source": [
    "importlib.reload(TRFs)\n",
    "preprocessed_path.mkdir(exist_ok=True)\n",
    "\n",
    "for i in range(4, 5):\n",
    "    subject = f'TP00{i:02d}'\n",
    "    print(subject)\n",
    "\n",
    "    if subject == 'TP0009':\n",
    "        remove_segments = [None, [[2400, 2540]]] # redid some of the speech material\n",
    "    else:\n",
    "        remove_segments = None\n",
    "        \n",
    "    if subject == 'TP0003':\n",
    "        eegfiles = [f'{subject}_speech_part1a.bdf', f'{subject}_speech_part1b.bdf', f'{subject}_speech_part2.bdf']\n",
    "    else:\n",
    "        eegfiles = [f'{subject}_speech_part1.bdf', f'{subject}_speech_part2.bdf']\n",
    "\n",
    "    savestr = f'{subject}_speech'\n",
    "    ch = 'Cz'\n",
    "    refc = ['EXG1', 'EXG2']\n",
    "    fsds = 4096\n",
    "    stdmul = 100\n",
    "    N = 40\n",
    "    t1 = 0\n",
    "    t2 = 62\n",
    "    save_raw_flag = True\n",
    "\n",
    "    preprocessed_file = preprocessed_path / f'{savestr}_preprocessed_{ch}_{refc[0]}{refc[1]}.pkl'\n",
    "    datadict = TRFs.preprocess_channel(savestr, preprocessed_file.stem, eegfiles, rawdata_path, subject, preprocessed_path, ch=ch, refc=refc, remove_segments=remove_segments, \n",
    "                            force_make=True, force_make_raw=False, t1=t1, t2=t2, N=N, plotfolder=preprocessed_path, temp_path=temp_path, plotflag=True, \n",
    "                            stdmul=stdmul, fsds=fsds, notchflag=True, save_raw_flag=save_raw_flag)"
   ]
  },
  {
   "cell_type": "markdown",
   "metadata": {},
   "source": [
    "# get preds"
   ]
  },
  {
   "cell_type": "code",
   "execution_count": null,
   "metadata": {},
   "outputs": [],
   "source": [
    "importlib.reload(TRFs)\n",
    "preds = TRFs.get_preds(preds, predspath=predictor_path, ks=['rect', 'oss', 'ossa', 'gt', 'zil'])"
   ]
  },
  {
   "cell_type": "code",
   "execution_count": null,
   "metadata": {},
   "outputs": [],
   "source": [
    "importlib.reload(TRFs)\n",
    "pred_shifts = TRFs.get_pred_shifts(preds)"
   ]
  },
  {
   "cell_type": "markdown",
   "metadata": {},
   "source": [
    "# Fit TRFs"
   ]
  },
  {
   "cell_type": "markdown",
   "metadata": {},
   "source": [
    "## All preds"
   ]
  },
  {
   "cell_type": "code",
   "execution_count": null,
   "metadata": {},
   "outputs": [],
   "source": [
    "importlib.reload(TRFs)\n",
    "options = [dict(cond='A', pndtype='true', pndsm=0.3, nbins=4, ks=['rect', 'oss', 'ossa', 'zil'], signs=['p'])]\n",
    "TRFs.fit_TRFs(preds, options=options)"
   ]
  },
  {
   "cell_type": "markdown",
   "metadata": {},
   "source": [
    "## slow change only"
   ]
  },
  {
   "cell_type": "code",
   "execution_count": null,
   "metadata": {},
   "outputs": [],
   "source": [
    "importlib.reload(TRFs)\n",
    "options = [dict(cond='fixed1', pndtype='true', pndsm=0.3, nbins=4, ks=['gt'], signs=['p'])]\n",
    "TRFs.fit_TRFs(preds, options=options)"
   ]
  },
  {
   "cell_type": "markdown",
   "metadata": {},
   "source": [
    "## fast change only"
   ]
  },
  {
   "cell_type": "code",
   "execution_count": null,
   "metadata": {},
   "outputs": [],
   "source": [
    "importlib.reload(TRFs)\n",
    "options = [dict(cond='switch1', pndtype='true', pndsm=0.3, nbins=4, ks=['gt'], signs=['p'])]\n",
    "TRFs.fit_TRFs(preds, options=options)"
   ]
  },
  {
   "cell_type": "markdown",
   "metadata": {},
   "source": [
    "## datalength"
   ]
  },
  {
   "cell_type": "code",
   "execution_count": null,
   "metadata": {},
   "outputs": [],
   "source": [
    "importlib.reload(TRFs)\n",
    "for Ntrials in range(36, 41, 4):\n",
    "    options = [dict(cond='switch', pndtype='true', pndsm=0.3, nbins=4, ks=['gt'], signs=['p'], Ntrials=Ntrials)]\n",
    "    TRFs.fit_TRFs(preds, options=options)"
   ]
  },
  {
   "cell_type": "markdown",
   "metadata": {},
   "source": [
    "## Inherent"
   ]
  },
  {
   "cell_type": "code",
   "execution_count": null,
   "metadata": {},
   "outputs": [],
   "source": [
    "importlib.reload(TRFs)\n",
    "options = [dict(cond='A', pndtype='pred', pndsm=0.3, nbins=8, ks=['gt'], signs=['p'])]\n",
    "TRFs.fit_TRFs(preds, options=options, subjects=[f'TP00{i}' for i in range(13, 25)])"
   ]
  },
  {
   "cell_type": "code",
   "execution_count": null,
   "metadata": {},
   "outputs": [],
   "source": []
  }
 ],
 "metadata": {
  "kernelspec": {
   "display_name": "eelcurrent",
   "language": "python",
   "name": "python3"
  },
  "language_info": {
   "codemirror_mode": {
    "name": "ipython",
    "version": 3
   },
   "file_extension": ".py",
   "mimetype": "text/x-python",
   "name": "python",
   "nbconvert_exporter": "python",
   "pygments_lexer": "ipython3",
   "version": "3.10.6"
  }
 },
 "nbformat": 4,
 "nbformat_minor": 2
}
